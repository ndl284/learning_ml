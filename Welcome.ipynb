{
 "cells": [
  {
   "cell_type": "markdown",
   "id": "8c84e662-c584-456e-8248-ec083bfe9edf",
   "metadata": {},
   "source": [
    "# Welcome."
   ]
  },
  {
   "cell_type": "markdown",
   "id": "b420de89-4b43-4de2-a5f8-6c257d4ea641",
   "metadata": {},
   "source": [
    "This is a simple notebook. Did it for the initial commit."
   ]
  },
  {
   "cell_type": "markdown",
   "id": "88f0df9b-46a8-49ae-a973-398340ba2ea8",
   "metadata": {},
   "source": [
    "It's easy to start small."
   ]
  },
  {
   "cell_type": "code",
   "execution_count": 5,
   "id": "a717fc3b-a6f0-44d6-868f-3fb4d78db2ee",
   "metadata": {},
   "outputs": [
    {
     "name": "stdout",
     "output_type": "stream",
     "text": [
      "Just something in python.\n"
     ]
    }
   ],
   "source": [
    "print(\"Just something in python.\")"
   ]
  },
  {
   "cell_type": "markdown",
   "id": "9ad0de5c-facf-4922-86d7-89e5f4f7984d",
   "metadata": {},
   "source": [
    "### Here is a cat and a dog drawn by chatGPT:"
   ]
  },
  {
   "cell_type": "raw",
   "id": "72553627-cc5b-423a-b1b1-b9c21bd6b280",
   "metadata": {},
   "source": []
  },
  {
   "cell_type": "raw",
   "id": "17f26eb2-a85a-42b8-a6ac-eb7dbdce78df",
   "metadata": {},
   "source": [
    " Cat:         Dog:\n",
    "   /\\___/\\      /\\___/\\\n",
    "  (  o o  )    (  o o  )\n",
    "  (  =^=  )    (  ___  )\n",
    "   )     (      )    (\n",
    "  /       \\    /      \\\n",
    " (         )  (        )\n",
    " |_________|  |________|\n",
    "    |   |        |  |\n",
    "    |   |        |  |\n",
    "   (_____)      (_____)"
   ]
  },
  {
   "cell_type": "markdown",
   "id": "ba5f8a54-6969-4c77-b490-c5f1bfa73a74",
   "metadata": {},
   "source": [
    "Pretty cool stuff. Can't wait to learn more about it."
   ]
  }
 ],
 "metadata": {
  "kernelspec": {
   "display_name": "Python 3 (ipykernel)",
   "language": "python",
   "name": "python3"
  },
  "language_info": {
   "codemirror_mode": {
    "name": "ipython",
    "version": 3
   },
   "file_extension": ".py",
   "mimetype": "text/x-python",
   "name": "python",
   "nbconvert_exporter": "python",
   "pygments_lexer": "ipython3",
   "version": "3.9.15"
  }
 },
 "nbformat": 4,
 "nbformat_minor": 5
}
