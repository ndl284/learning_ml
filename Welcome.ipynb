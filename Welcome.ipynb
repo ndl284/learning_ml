{
 "cells": [
  {
   "cell_type": "markdown",
   "id": "8c84e662-c584-456e-8248-ec083bfe9edf",
   "metadata": {},
   "source": [
    "# Welcome."
   ]
  },
  {
   "cell_type": "markdown",
   "id": "b420de89-4b43-4de2-a5f8-6c257d4ea641",
   "metadata": {},
   "source": [
    "This is a simple notebook. Did it for the initial commit."
   ]
  },
  {
   "cell_type": "markdown",
   "id": "88f0df9b-46a8-49ae-a973-398340ba2ea8",
   "metadata": {},
   "source": [
    "It's easy to start small."
   ]
  },
  {
   "cell_type": "markdown",
   "id": "9ad0de5c-facf-4922-86d7-89e5f4f7984d",
   "metadata": {},
   "source": [
    "### Here is a cat and a dog drawn by chatGPT:"
   ]
  },
  {
   "cell_type": "raw",
   "id": "4b2ab877-968c-4fa9-87d2-83df55800e46",
   "metadata": {},
   "source": [
    " /\\_/\\        / \\__\n",
    "( o.o )      (    @\\___\n",
    " > ^ <        /         O\n",
    "             /   (_____/\n",
    "            /_____/   U"
   ]
  },
  {
   "cell_type": "markdown",
   "id": "06708f62-e953-47d8-a9c0-ff58fcffd5e7",
   "metadata": {},
   "source": [
    "### Here is a cat and dog drawn by Gemini (lol):"
   ]
  },
  {
   "cell_type": "raw",
   "id": "1f0f21b7-9e48-4664-81d7-e45df4dde9a5",
   "metadata": {},
   "source": [
    "/\\   /\\\n",
    "(  '  )\n",
    " \\  ^  /\n",
    "  \\  /\n",
    "   /"
   ]
  },
  {
   "cell_type": "markdown",
   "id": "4934b89d-d288-4b38-ab27-995e21fd87ef",
   "metadata": {},
   "source": [
    "### Here is a cat and a dog drawn by Claude:"
   ]
  },
  {
   "cell_type": "raw",
   "id": "dcf8126f-ac36-45cb-9e4e-ed1ece0c92ce",
   "metadata": {},
   "source": [
    " Cat:         Dog:\n",
    "   /\\___/\\      /\\___/\\\n",
    "  (  o o  )    (  o o  )\n",
    "  (  =^=  )    (  ___  )\n",
    "   )     (      )    (\n",
    "  /       \\    /      \\\n",
    " (         )  (        )\n",
    " |_________|  |________|\n",
    "    |   |        |  |\n",
    "    |   |        |  |\n",
    "   (_____)      (_____)"
   ]
  },
  {
   "cell_type": "raw",
   "id": "c83c2380-77c8-487e-8285-e39c5639ed73",
   "metadata": {},
   "source": [
    "Pretty cool stuff. Can't wait to learn more about it."
   ]
  }
 ],
 "metadata": {
  "kernelspec": {
   "display_name": "Python 3 (ipykernel)",
   "language": "python",
   "name": "python3"
  },
  "language_info": {
   "codemirror_mode": {
    "name": "ipython",
    "version": 3
   },
   "file_extension": ".py",
   "mimetype": "text/x-python",
   "name": "python",
   "nbconvert_exporter": "python",
   "pygments_lexer": "ipython3",
   "version": "3.9.15"
  }
 },
 "nbformat": 4,
 "nbformat_minor": 5
}
